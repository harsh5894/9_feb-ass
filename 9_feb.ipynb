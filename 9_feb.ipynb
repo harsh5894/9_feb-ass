{
 "cells": [
  {
   "cell_type": "code",
   "execution_count": 2,
   "id": "2f29b157-c0d6-4f95-a151-1961aca41dc2",
   "metadata": {},
   "outputs": [
    {
     "name": "stdout",
     "output_type": "stream",
     "text": [
      "audi\n",
      "333\n",
      "20\n"
     ]
    }
   ],
   "source": [
    "# Q1. Create a vehicle class with an init method having instance variables as name_of_vehicle, max_speed\n",
    "#  and average_of_vehicle.\n",
    "#Ans :- \n",
    "class vehicle :\n",
    "    def __init__(self,name_of_vehicle,max_speed,average_of_vehicle):\n",
    "        self.name_of_vehicle=name_of_vehicle\n",
    "        self.max_speed=max_speed\n",
    "        self.average_of_vehicle=average_of_vehicle\n",
    "        \n",
    "o=vehicle(\"audi\",333,20)\n",
    "print(o.name_of_vehicle)\n",
    "print(o.max_speed)\n",
    "print(o.average_of_vehicle)    "
   ]
  },
  {
   "cell_type": "code",
   "execution_count": 3,
   "id": "2040274d-ff70-4db7-982c-dc9d35d19c3e",
   "metadata": {},
   "outputs": [
    {
     "data": {
      "text/plain": [
       "('porsche', 4)"
      ]
     },
     "execution_count": 3,
     "metadata": {},
     "output_type": "execute_result"
    }
   ],
   "source": [
    "# Q2. Create a child class car from the vehicle class created in Que 1, which will inherit the vehicle class.\n",
    "# Create a method named seating_capacity which takes capacity as an argument and returns the name of\n",
    "# the vehicle and its seating capacity.\n",
    "# Ans :-\n",
    "class child(vehicle):\n",
    "    def seating_capacity(self,capacity):\n",
    "        self.capacity=capacity\n",
    "        return self.name_of_vehicle,self.capacity\n",
    "    \n",
    "o=child(\"porsche\",333,20)\n",
    "o.seating_capacity(4)\n",
    "('porsche', 4)"
   ]
  },
  {
   "cell_type": "code",
   "execution_count": 4,
   "id": "4ede5ecc-9dfc-49d6-ba94-fc9891133e89",
   "metadata": {},
   "outputs": [
    {
     "name": "stdout",
     "output_type": "stream",
     "text": [
      "pwskills\n",
      "company\n",
      "valuation\n"
     ]
    }
   ],
   "source": [
    "# Q3. What is multiple inheritance? Write a python code to demonstrate multiple inheritance.\n",
    "# Ans :-\n",
    "#  Multiple inheritance is a feature of object-oriented programming where a subclass can inherit from more than one parent class. \n",
    "#  This allows the subclass to have all of the attributes and methods of both parent classes.\n",
    "\n",
    "#  Here's an example of a Python code that demonstrates multiple inheritance:\n",
    "class class1:\n",
    "    def a(self):\n",
    "        print(\"pwskills\")\n",
    "        \n",
    "class class2 :\n",
    "    def b(self):\n",
    "        print(\"company\")\n",
    "        \n",
    "class class3(class1,class2):\n",
    "    def c(self):\n",
    "        print(\"valuation\")\n",
    "        \n",
    "o=class3()\n",
    "o.a()\n",
    "o.b()\n",
    "o.c()"
   ]
  },
  {
   "cell_type": "code",
   "execution_count": 5,
   "id": "1dcff657-a1ed-41f5-9b0d-893a0b382353",
   "metadata": {},
   "outputs": [
    {
     "name": "stdout",
     "output_type": "stream",
     "text": [
      "2023\n",
      "toyota \n",
      "\n",
      "2022\n",
      "ford\n"
     ]
    }
   ],
   "source": [
    "# Q4. What are getter and setter in python? Create a class and create a getter and a setter method in this class.\n",
    "# Ans :- \n",
    "#      Getters : These are the methods used in Object-Oriented Programming (OOPS) which helps to access the private attributes from a class.\n",
    "#      Setters : These are the methods used in OOPS feature which helps to set the value to private attributes in a class.\n",
    "class car:\n",
    "    def __init__(self,year,make):\n",
    "        self.__year=year\n",
    "        self.__make=make\n",
    "        \n",
    "        \n",
    "    def get_year(self):\n",
    "        return self.__year\n",
    "    \n",
    "    def set_year(self,nyear):\n",
    "        self.__year=nyear\n",
    "        \n",
    "    def get_make(self):\n",
    "        return self.__make\n",
    "    \n",
    "    def set_make(self,nmake):\n",
    "        self.__make=nmake\n",
    "        \n",
    "        \n",
    "o=car(2023,\"toyota\")\n",
    "print(o.get_year())\n",
    "print(o.get_make(),\"\\n\")\n",
    "\n",
    "\n",
    "o.set_year(2022)\n",
    "o.set_make(\"ford\")\n",
    "       \n",
    "print(o.get_year())\n",
    "print(o.get_make())"
   ]
  },
  {
   "cell_type": "code",
   "execution_count": 6,
   "id": "40a55e52-d5c3-48c7-a22e-23bf9ecda0d4",
   "metadata": {},
   "outputs": [
    {
     "name": "stdout",
     "output_type": "stream",
     "text": [
      "phone is a useful device \n",
      "car helps in travelling \n"
     ]
    }
   ],
   "source": [
    "# Q5.What is method overriding in python? Write a python code to demonstrate method overriding.\n",
    "# Ans :-\n",
    "#      Method overriding is a mechanism in object-oriented programming that allows a subclass to provide its own \n",
    "#      implementation of a method that is already defined in its superclass. This means that when the method is called on the subclass object, \n",
    "#      the implementation in the subclass is executed instead of the implementation in the superclass.\n",
    "class phone :\n",
    "    def function(self):\n",
    "        print(\"phone is a useful device \")\n",
    "        \n",
    "class car :\n",
    "    def function(self):\n",
    "        print(\"car helps in travelling \")\n",
    "        \n",
    "p=phone()\n",
    "c=car()\n",
    "\n",
    "p.function()\n",
    "c.function()"
   ]
  },
  {
   "cell_type": "code",
   "execution_count": null,
   "id": "a8ccb508-3cac-4888-89aa-2105d127318c",
   "metadata": {},
   "outputs": [],
   "source": []
  }
 ],
 "metadata": {
  "kernelspec": {
   "display_name": "Python 3 (ipykernel)",
   "language": "python",
   "name": "python3"
  },
  "language_info": {
   "codemirror_mode": {
    "name": "ipython",
    "version": 3
   },
   "file_extension": ".py",
   "mimetype": "text/x-python",
   "name": "python",
   "nbconvert_exporter": "python",
   "pygments_lexer": "ipython3",
   "version": "3.10.8"
  }
 },
 "nbformat": 4,
 "nbformat_minor": 5
}
